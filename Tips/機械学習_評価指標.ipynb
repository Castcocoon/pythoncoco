{
  "nbformat": 4,
  "nbformat_minor": 0,
  "metadata": {
    "colab": {
      "name": "機械学習_評価指標.ipynb",
      "provenance": [],
      "toc_visible": true,
      "authorship_tag": "ABX9TyOpNtL8W1vCD0q2Gc4K5zmS",
      "include_colab_link": true
    },
    "kernelspec": {
      "name": "python3",
      "display_name": "Python 3"
    },
    "language_info": {
      "name": "python"
    }
  },
  "cells": [
    {
      "cell_type": "markdown",
      "metadata": {
        "id": "view-in-github",
        "colab_type": "text"
      },
      "source": [
        "<a href=\"https://colab.research.google.com/github/Castcocoon/Python_practice/blob/main/%E6%A9%9F%E6%A2%B0%E5%AD%A6%E7%BF%92_%E8%A9%95%E4%BE%A1%E6%8C%87%E6%A8%99.ipynb\" target=\"_parent\"><img src=\"https://colab.research.google.com/assets/colab-badge.svg\" alt=\"Open In Colab\"/></a>"
      ]
    },
    {
      "cell_type": "markdown",
      "metadata": {
        "id": "CIRaJyGyxlKh"
      },
      "source": [
        "# 評価指標の理解\n",
        "\n",
        "自分はこれまでaccuracy_scoreでしかモデルを評価してこなかったが、それだと適さない状況があると考えた。\n",
        "\n",
        "そのため、参考を見ながら学習する\n",
        "\n",
        "\n",
        "参考:https://blog.amedama.jp/entry/2017/12/18/005311"
      ]
    },
    {
      "cell_type": "code",
      "metadata": {
        "id": "uDy8VXjEvu1S"
      },
      "source": [
        "from sklearn import datasets\n",
        "from sklearn.model_selection import train_test_split\n",
        "from sklearn.ensemble import RandomForestClassifier\n",
        "import matplotlib.pyplot as plt"
      ],
      "execution_count": null,
      "outputs": []
    },
    {
      "cell_type": "code",
      "metadata": {
        "id": "_Vae7BBZwYYJ"
      },
      "source": [
        "breast_cancer = datasets.load_breast_cancer()"
      ],
      "execution_count": null,
      "outputs": []
    },
    {
      "cell_type": "code",
      "metadata": {
        "colab": {
          "base_uri": "https://localhost:8080/"
        },
        "id": "vCVbzcBzwccp",
        "outputId": "278a0aec-3af1-4c55-9f3c-8140bb9e9a40"
      },
      "source": [
        "breast_cancer.feature_names"
      ],
      "execution_count": null,
      "outputs": [
        {
          "output_type": "execute_result",
          "data": {
            "text/plain": [
              "array(['mean radius', 'mean texture', 'mean perimeter', 'mean area',\n",
              "       'mean smoothness', 'mean compactness', 'mean concavity',\n",
              "       'mean concave points', 'mean symmetry', 'mean fractal dimension',\n",
              "       'radius error', 'texture error', 'perimeter error', 'area error',\n",
              "       'smoothness error', 'compactness error', 'concavity error',\n",
              "       'concave points error', 'symmetry error',\n",
              "       'fractal dimension error', 'worst radius', 'worst texture',\n",
              "       'worst perimeter', 'worst area', 'worst smoothness',\n",
              "       'worst compactness', 'worst concavity', 'worst concave points',\n",
              "       'worst symmetry', 'worst fractal dimension'], dtype='<U23')"
            ]
          },
          "metadata": {
            "tags": []
          },
          "execution_count": 6
        }
      ]
    },
    {
      "cell_type": "code",
      "metadata": {
        "colab": {
          "base_uri": "https://localhost:8080/"
        },
        "id": "BJQ_RXAgwfGd",
        "outputId": "399d19c1-0f9f-4efe-a4d2-e5c3194be7fb"
      },
      "source": [
        "breast_cancer.target_names"
      ],
      "execution_count": null,
      "outputs": [
        {
          "output_type": "execute_result",
          "data": {
            "text/plain": [
              "array(['malignant', 'benign'], dtype='<U9')"
            ]
          },
          "metadata": {
            "tags": []
          },
          "execution_count": 8
        }
      ]
    },
    {
      "cell_type": "markdown",
      "metadata": {
        "id": "U5mPA8h9x4rk"
      },
      "source": [
        "悪性(malignant)　良性(benign)"
      ]
    },
    {
      "cell_type": "code",
      "metadata": {
        "id": "7pnDIsNZxf1L"
      },
      "source": [
        "X, y = breast_cancer.data, breast_cancer.target"
      ],
      "execution_count": null,
      "outputs": []
    },
    {
      "cell_type": "code",
      "metadata": {
        "id": "XNPiQ5e0yH1O"
      },
      "source": [
        "X_train, X_test, y_train, y_test = train_test_split(X, y, test_size= 0.5)"
      ],
      "execution_count": null,
      "outputs": []
    },
    {
      "cell_type": "code",
      "metadata": {
        "id": "LrpUClQYyXPw"
      },
      "source": [
        "clf = RandomForestClassifier()"
      ],
      "execution_count": null,
      "outputs": []
    },
    {
      "cell_type": "code",
      "metadata": {
        "colab": {
          "base_uri": "https://localhost:8080/"
        },
        "id": "0lZ2AFksyeEx",
        "outputId": "79df0a46-d221-45bb-b0ec-c6ea30bf2f81"
      },
      "source": [
        "clf.fit(X_train, y_train)"
      ],
      "execution_count": null,
      "outputs": [
        {
          "output_type": "execute_result",
          "data": {
            "text/plain": [
              "RandomForestClassifier(bootstrap=True, ccp_alpha=0.0, class_weight=None,\n",
              "                       criterion='gini', max_depth=None, max_features='auto',\n",
              "                       max_leaf_nodes=None, max_samples=None,\n",
              "                       min_impurity_decrease=0.0, min_impurity_split=None,\n",
              "                       min_samples_leaf=1, min_samples_split=2,\n",
              "                       min_weight_fraction_leaf=0.0, n_estimators=100,\n",
              "                       n_jobs=None, oob_score=False, random_state=None,\n",
              "                       verbose=0, warm_start=False)"
            ]
          },
          "metadata": {
            "tags": []
          },
          "execution_count": 14
        }
      ]
    },
    {
      "cell_type": "code",
      "metadata": {
        "id": "jmSjT-Ftyk4O"
      },
      "source": [
        "y_pred = clf.predict(X_test)"
      ],
      "execution_count": null,
      "outputs": []
    },
    {
      "cell_type": "markdown",
      "metadata": {
        "id": "F8WyBo0myrU1"
      },
      "source": [
        "# 評価指標CK"
      ]
    },
    {
      "cell_type": "code",
      "metadata": {
        "colab": {
          "base_uri": "https://localhost:8080/"
        },
        "id": "HRak0YdDyqNy",
        "outputId": "e9f46b2b-883c-4949-db0b-de2b2a1856c6"
      },
      "source": [
        "from sklearn.metrics import confusion_matrix\n",
        "confusion_matrix(y_pred, y_test)"
      ],
      "execution_count": null,
      "outputs": [
        {
          "output_type": "execute_result",
          "data": {
            "text/plain": [
              "array([[103,   9],\n",
              "       [  7, 166]])"
            ]
          },
          "metadata": {
            "tags": []
          },
          "execution_count": 16
        }
      ]
    },
    {
      "cell_type": "markdown",
      "metadata": {
        "id": "7CiugyzX2l-I"
      },
      "source": [
        "*   左上→True Positive正しく陽性と判定できた場合\n",
        "*   右下→True Negative正しく陰性と判定できた場合\n",
        "*   右上→False Positive本来は陰性なところを、誤って陽性と判定してしまった場合\n",
        "*   左下→False Negative本来は陽性なところを、誤って陰性と判定してしまった場合\n"
      ]
    },
    {
      "cell_type": "markdown",
      "metadata": {
        "id": "vjLx7ysA1Rjg"
      },
      "source": [
        "## 正確度(Accuracy)"
      ]
    },
    {
      "cell_type": "markdown",
      "metadata": {
        "id": "x-_b-I1S3qKF"
      },
      "source": [
        "- 一番多く使われるもの\n",
        "- 正解度を使う場面ではFPとFNを考慮しないことが多い\n",
        "- 今回はFNが重要である\n",
        "→陽性の人を誤って陰性と判断することは大問題\n",
        "→したがって今回は正解度だけを見てモデルの評価をできない\n",
        "- 医療の場面では陰性と陽性の割合が偏っている\n",
        "→数の多い健康な人を健康とただ判断するだけで正解度高くなってしまう。陽性が無碍に扱われる"
      ]
    },
    {
      "cell_type": "code",
      "metadata": {
        "colab": {
          "base_uri": "https://localhost:8080/"
        },
        "id": "BO5S_FpQ1JYJ",
        "outputId": "8427ebc0-fa26-470c-af02-27af05fc5892"
      },
      "source": [
        "from sklearn.metrics import accuracy_score\n",
        "accuracy_score(y_test, y_pred)"
      ],
      "execution_count": null,
      "outputs": [
        {
          "output_type": "execute_result",
          "data": {
            "text/plain": [
              "0.9438596491228071"
            ]
          },
          "metadata": {
            "tags": []
          },
          "execution_count": 22
        }
      ]
    },
    {
      "cell_type": "markdown",
      "metadata": {
        "id": "E4V-yuSX5B-W"
      },
      "source": [
        "精度は高いかもしれないが陽性だが陰性と判断されている人がいるかも知れないから実際の評価指標としては適さない"
      ]
    },
    {
      "cell_type": "markdown",
      "metadata": {
        "id": "pXZPI0be5Ngf"
      },
      "source": [
        "## 適合率(Precision)"
      ]
    },
    {
      "cell_type": "markdown",
      "metadata": {
        "id": "CX8QN4iE5awQ"
      },
      "source": [
        "- モデルが陽性と判断したものの中に、本当の陽性がどの程度含まれていたかを示す指標\n",
        "→正確性を見る指標\n",
        "- わかりにくいものは基本的に陰性と判断する→その中には実際には陽性だったものも含まれているかも\n",
        "- FNは重視しない指標である\n",
        "→今回は適さない、FNが発生した場合、命に関わる"
      ]
    },
    {
      "cell_type": "code",
      "metadata": {
        "colab": {
          "base_uri": "https://localhost:8080/"
        },
        "id": "hY1StYN05Qvk",
        "outputId": "74bfa746-1879-474c-a828-132731e42ffc"
      },
      "source": [
        "from sklearn.metrics import precision_score\n",
        "precision_score(y_test, y_pred)"
      ],
      "execution_count": null,
      "outputs": [
        {
          "output_type": "execute_result",
          "data": {
            "text/plain": [
              "0.9595375722543352"
            ]
          },
          "metadata": {
            "tags": []
          },
          "execution_count": 19
        }
      ]
    },
    {
      "cell_type": "markdown",
      "metadata": {
        "id": "MTSQLyRP6oiA"
      },
      "source": [
        "## 再現率(Recall)"
      ]
    },
    {
      "cell_type": "markdown",
      "metadata": {
        "id": "rwhZjR7B6q87"
      },
      "source": [
        "- 実際に陽性だったもののうち、モデルが陽性と判断したものの割合\n",
        "→網羅性を見る\n",
        "- 今回の場合、本当に悪性だったものの中でモデルが悪性と判断できたものの割合\n",
        "- この評価指標は、怪しいものをすべて見つけ出したいときに使う\n",
        "- わかりにくいものはすべて陽性→FPは重視しない"
      ]
    },
    {
      "cell_type": "code",
      "metadata": {
        "colab": {
          "base_uri": "https://localhost:8080/"
        },
        "id": "rxTgU42B6MEh",
        "outputId": "5d1398e7-4b61-4f5e-bbe6-4ba61ad3648e"
      },
      "source": [
        "from sklearn.metrics import recall_score\n",
        "recall_score(y_test, y_pred)"
      ],
      "execution_count": null,
      "outputs": [
        {
          "output_type": "execute_result",
          "data": {
            "text/plain": [
              "0.9485714285714286"
            ]
          },
          "metadata": {
            "tags": []
          },
          "execution_count": 23
        }
      ]
    },
    {
      "cell_type": "markdown",
      "metadata": {
        "id": "AChwhw17-U5Z"
      },
      "source": [
        "### 適合率と再現率のトレードオフ\n"
      ]
    },
    {
      "cell_type": "markdown",
      "metadata": {
        "id": "HAiCkH30-ThO"
      },
      "source": [
        "この方の説明がすごくわかりやすいから記録しておく\n",
        "https://blog.amedama.jp/entry/2017/12/18/005311"
      ]
    },
    {
      "cell_type": "markdown",
      "metadata": {
        "id": "A_kvozxj-jnZ"
      },
      "source": [
        "## F-値(F-score, F-measure)"
      ]
    },
    {
      "cell_type": "markdown",
      "metadata": {
        "id": "4CBc5pf3-jbN"
      },
      "source": [
        "- 適合率と再現率の調和平均をとったものになっている。\n",
        "- どちらかに偏りたくないときにこの評価指標を使うのが良いだろう\n",
        "- accuracyのときは陽性、陰性が偏る状況のときは適さないと前述したが、\n",
        "F-値はそのような場合でも評価しやすい\n"
      ]
    },
    {
      "cell_type": "code",
      "metadata": {
        "colab": {
          "base_uri": "https://localhost:8080/"
        },
        "id": "ejCZHcCn73X4",
        "outputId": "cd2e415c-672c-4bea-fd75-0b483ead937e"
      },
      "source": [
        "from sklearn.metrics import f1_score\n",
        "f1_score(y_test, y_pred)"
      ],
      "execution_count": null,
      "outputs": [
        {
          "output_type": "execute_result",
          "data": {
            "text/plain": [
              "0.9540229885057472"
            ]
          },
          "metadata": {
            "tags": []
          },
          "execution_count": 24
        }
      ]
    },
    {
      "cell_type": "markdown",
      "metadata": {
        "id": "GoFk0PHa_t_7"
      },
      "source": [
        "## AUC曲線(Area Under the Curve)"
      ]
    },
    {
      "cell_type": "markdown",
      "metadata": {
        "id": "uAv05mgMACD9"
      },
      "source": [
        "AUCを理解するにはROC曲線を理解する必要がある"
      ]
    },
    {
      "cell_type": "markdown",
      "metadata": {
        "id": "J_30jTYEAJkA"
      },
      "source": [
        "### ROC曲線"
      ]
    },
    {
      "cell_type": "markdown",
      "metadata": {
        "id": "AksZf9LCANrS"
      },
      "source": [
        "- 縦軸に再現率、横軸に特異度(実際に陰性だったものの打ちモデルが陰性と判断したものの割合)"
      ]
    },
    {
      "cell_type": "code",
      "metadata": {
        "colab": {
          "base_uri": "https://localhost:8080/",
          "height": 300
        },
        "id": "eLbDVWyR_qSn",
        "outputId": "3ea648c5-1793-4f37-c00c-0c14554bcabb"
      },
      "source": [
        "from sklearn.metrics import roc_curve\n",
        "# roc曲線のプロット\n",
        "fpr, tpr, _ = roc_curve(y_test, clf.predict_proba(X_test)[:, 1])\n",
        "plt.step(fpr, tpr, color= 'b', alpha= 0.2, where = 'post')\n",
        "# 曲線の内側を色塗る\n",
        "plt.fill_between(fpr, tpr, step='post', alpha = 0.2, color='b')\n",
        "#対角線のプロット\n",
        "plt.plot([0, 1], [0, 1], color='navy', linestyle='--')\n",
        "# 各軸に名前をつける\n",
        "plt.ylabel('True Positive Rate')\n",
        "plt.xlabel('False Positive Rate')\n",
        "#y軸の制限\n",
        "plt.ylim([0.0, 1.0])\n",
        "# x軸の制限\n",
        "plt.xlim([0.0, 1.0])"
      ],
      "execution_count": null,
      "outputs": [
        {
          "output_type": "execute_result",
          "data": {
            "text/plain": [
              "(0.0, 1.0)"
            ]
          },
          "metadata": {
            "tags": []
          },
          "execution_count": 43
        },
        {
          "output_type": "display_data",
          "data": {
            "image/png": "[encoded data removed]",
            "text/plain": [
              "<Figure size 432x288 with 1 Axes>"
            ]
          },
          "metadata": {
            "tags": [],
            "needs_background": "light"
          }
        }
      ]
    },
    {
      "cell_type": "markdown",
      "metadata": {
        "id": "3nzxQ5NqDHAy"
      },
      "source": [
        "- ROC曲線では上記の青い部分が多いほど優れたモデルであると評価できる\n",
        "- その優れたモデルかどうかを評価するのがAUC(0.5~1)の間で表現する\n"
      ]
    },
    {
      "cell_type": "code",
      "metadata": {
        "colab": {
          "base_uri": "https://localhost:8080/"
        },
        "id": "jEyjYt4MAaS7",
        "outputId": "6a6f63ee-4d46-4aa4-b27d-56d8457f670e"
      },
      "source": [
        "from sklearn.metrics import auc\n",
        "auc(fpr, tpr)"
      ],
      "execution_count": null,
      "outputs": [
        {
          "output_type": "execute_result",
          "data": {
            "text/plain": [
              "0.9823636363636364"
            ]
          },
          "metadata": {
            "tags": []
          },
          "execution_count": 46
        }
      ]
    }
  ]
}