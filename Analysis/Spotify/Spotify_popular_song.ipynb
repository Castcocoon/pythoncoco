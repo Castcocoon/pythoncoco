{
 "cells": [
  {
   "cell_type": "markdown",
   "id": "24941939",
   "metadata": {},
   "source": [
    "# 目的 Spotifyのアーティストの人気楽曲を取得する "
   ]
  },
  {
   "cell_type": "markdown",
   "id": "9bb6d7f9",
   "metadata": {},
   "source": [
    "自分で好きな歌手の名前を与えるとその歌手の人気曲を出力するものを作る。"
   ]
  },
  {
   "cell_type": "code",
   "execution_count": 1,
   "id": "8c75999c",
   "metadata": {},
   "outputs": [],
   "source": [
    "import pandas as pd\n",
    "import spotipy\n",
    "import matplotlib.pyplot as plt\n",
    "from spotipy.oauth2 import SpotifyClientCredentials\n",
    "import time"
   ]
  },
  {
   "cell_type": "code",
   "execution_count": 2,
   "id": "95e93774",
   "metadata": {},
   "outputs": [],
   "source": [
    "\n",
    "client_id = '自分のclient ID'\n",
    "client_secret = '自分のclient secret'\n",
    "\n",
    "client_credentials_manager = SpotifyClientCredentials(client_id, client_secret)\n",
    "spotify = spotipy.Spotify(client_credentials_manager=client_credentials_manager)"
   ]
  },
  {
   "cell_type": "markdown",
   "id": "c860272d",
   "metadata": {},
   "source": [
    "spotify.searchによって得れるものの作りが以下の様になっている\n",
    "\n",
    "artists{\n",
    "    items{\n",
    "        id{\n",
    "            \n",
    "        }\n",
    "    }\n",
    "}\n",
    "\n",
    "その順番でまずは名前からその歌手のIDを持ってくる"
   ]
  },
  {
   "cell_type": "code",
   "execution_count": 3,
   "id": "a076b55b",
   "metadata": {},
   "outputs": [],
   "source": [
    "def getIdByArtist(artist_name):\n",
    "    results = spotify.search(q=\"artist:\" + artist_name, type=\"artist\")\n",
    "    items = results[\"artists\"][\"items\"]\n",
    "    artist = items[0]\n",
    "    artist_id = artist[\"id\"]\n",
    "    return artist_id"
   ]
  },
  {
   "cell_type": "markdown",
   "id": "46dcf0eb",
   "metadata": {},
   "source": [
    "spotify.artist_top_tracks()\n",
    "で引数に歌手のIDを与えると10個の人気楽曲が返されるからこれを使う"
   ]
  },
  {
   "cell_type": "code",
   "execution_count": 4,
   "id": "8f301f9c",
   "metadata": {},
   "outputs": [],
   "source": [
    "def getTopSongs(artist_name):\n",
    "    num = 10  # 調べたい楽曲数(最大10)\n",
    "    try:\n",
    "        search_id = getIdByArtist(artist_name)\n",
    "        artist_top_tracks = spotify.artist_top_tracks(search_id, country=\"JP\")[\"tracks\"]\n",
    "\n",
    "        print(artist_name + f\" Top{num} Songs\")\n",
    "\n",
    "        for i in range(num):\n",
    "            print(str(i + 1) + \". \" + artist_top_tracks[i][\"name\"])\n",
    "\n",
    "    except IndexError:\n",
    "        print(\"IndexError has occurred!\")\n",
    "    except AttributeError:\n",
    "        print(\"AttributeError has occurred!\")"
   ]
  },
  {
   "cell_type": "code",
   "execution_count": 6,
   "id": "c7dd86f3",
   "metadata": {},
   "outputs": [
    {
     "name": "stdout",
     "output_type": "stream",
     "text": [
      "Radwimps Top10 Songs\n",
      "1. うるうびと\n",
      "2. スパークル - movie ver.\n",
      "3. 前前前世 - movie ver.\n",
      "4. なんでもないや - movie ver.\n",
      "5. 夢灯籠\n",
      "6. そっけない\n",
      "7. 正解 - 18FES ver.\n",
      "8. 05410-(ん)\n",
      "9. グランドエスケープ\n",
      "10. me me she\n"
     ]
    }
   ],
   "source": [
    "getTopSongs(\"Radwimps\")"
   ]
  },
  {
   "cell_type": "code",
   "execution_count": null,
   "id": "598a08c3",
   "metadata": {},
   "outputs": [],
   "source": []
  }
 ],
 "metadata": {
  "interpreter": {
   "hash": "45387820ba0c0a2de78a44294f4fc458eb3cb0a91ba2e953e92c84f22013083d"
  },
  "kernelspec": {
   "display_name": "Python 3.9.12 ('common')",
   "language": "python",
   "name": "python3"
  },
  "language_info": {
   "codemirror_mode": {
    "name": "ipython",
    "version": 3
   },
   "file_extension": ".py",
   "mimetype": "text/x-python",
   "name": "python",
   "nbconvert_exporter": "python",
   "pygments_lexer": "ipython3",
   "version": "3.9.12"
  }
 },
 "nbformat": 4,
 "nbformat_minor": 5
}
