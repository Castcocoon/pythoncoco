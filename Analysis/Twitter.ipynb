{
 "cells": [
  {
   "cell_type": "code",
   "execution_count": 4,
   "metadata": {},
   "outputs": [],
   "source": [
    "import tweepy"
   ]
  },
  {
   "cell_type": "code",
   "execution_count": 5,
   "metadata": {},
   "outputs": [],
   "source": [
    "\n"
   ]
  },
  {
   "cell_type": "code",
   "execution_count": 6,
   "metadata": {},
   "outputs": [],
   "source": [
    "api = tweepy.Client(bearer_token=BEARER, consumer_key=API_Key , consumer_secret=API_Sec  , access_token=Token, access_token_secret=Token_Sec,wait_on_rate_limit=True)\n",
    "#wait_on_rate_limit=True はあってもなくてもいいですが、APIの使用回数が制限に達したときにエラーを返しません。\n",
    "#が、コードが止まることには変わりません。"
   ]
  },
  {
   "cell_type": "code",
   "execution_count": 8,
   "metadata": {},
   "outputs": [],
   "source": [
    "user = api.get_user(username='coco', user_fields=\"description,protected,location,name,username,public_metrics,profile_image_url,verified\",tweet_fields=\"id\",expansions=\"pinned_tweet_id\")\n",
    "#usernameだけ必須です　なのでuser_fieldsの中とかは要らんやつ省けます　よく分らんかったらそろまま言っちゃってください\n",
    "#description：プロフィール\n",
    "#protected:鍵垢かどうか\n",
    "#location：位置\n",
    "#name:名前\n",
    "#username:ユーザーネーム(いわゆる＠から始まるやつ)\n",
    "#public_metrics:このオブジェクトの中にフォロワーとかフォロー中とかツイートの数のデータが入ります\n",
    "#profile_image_url：アイコンの画像のurl\n",
    "#verified：公式マークがついてるかどうか\n",
    "#詳しく知りたい方はTwitter APIの公式リファレンスへ（もちろん英語）\n",
    "#https://developer.twitter.com/en/docs/twitter-api/users/lookup/api-reference/get-users-by-username-username"
   ]
  },
  {
   "cell_type": "code",
   "execution_count": 9,
   "metadata": {},
   "outputs": [
    {
     "data": {
      "text/plain": [
       "Response(data=<User id=16003379 name=Coco Rodrigo 👩🏻‍💻 username=Coco>, includes={'tweets': [<Tweet id=1516422000020967426 text='Tras varios meses de trabajo, aquí está mi web profesional 🙋🏻\\u200d♀️💻\\n\\nComo sabéis, trabajo en comunicación estratégica y estoy especializada en responsbilidad y sostenibilidad (con certificados GRI y SGE21).\\n\\nPodéis ver mi trayectoria (y consultar mi CV) en:\\n▶️ https://t.co/2TjwpRQAAO'>]}, errors=[], meta={})"
      ]
     },
     "execution_count": 9,
     "metadata": {},
     "output_type": "execute_result"
    }
   ],
   "source": [
    "user"
   ]
  },
  {
   "cell_type": "code",
   "execution_count": null,
   "metadata": {},
   "outputs": [],
   "source": []
  }
 ],
 "metadata": {
  "interpreter": {
   "hash": "45387820ba0c0a2de78a44294f4fc458eb3cb0a91ba2e953e92c84f22013083d"
  },
  "kernelspec": {
   "display_name": "Python 3.9.12 ('common')",
   "language": "python",
   "name": "python3"
  },
  "language_info": {
   "codemirror_mode": {
    "name": "ipython",
    "version": 3
   },
   "file_extension": ".py",
   "mimetype": "text/x-python",
   "name": "python",
   "nbconvert_exporter": "python",
   "pygments_lexer": "ipython3",
   "version": "3.9.12"
  },
  "orig_nbformat": 4
 },
 "nbformat": 4,
 "nbformat_minor": 2
}
