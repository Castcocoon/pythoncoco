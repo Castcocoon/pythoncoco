{
 "cells": [
  {
   "cell_type": "code",
   "execution_count": 1,
   "id": "b7476a02",
   "metadata": {
    "_cell_guid": "b1076dfc-b9ad-4769-8c92-a6c4dae69d19",
    "_uuid": "8f2839f25d086af736a60e9eeb907d3b93b6e0e5",
    "execution": {
     "iopub.execute_input": "2021-08-07T07:15:12.292850Z",
     "iopub.status.busy": "2021-08-07T07:15:12.291975Z",
     "iopub.status.idle": "2021-08-07T07:15:12.298381Z",
     "shell.execute_reply": "2021-08-07T07:15:12.297501Z",
     "shell.execute_reply.started": "2021-08-07T06:52:56.194624Z"
    },
    "papermill": {
     "duration": 0.033916,
     "end_time": "2021-08-07T07:15:12.298582",
     "exception": false,
     "start_time": "2021-08-07T07:15:12.264666",
     "status": "completed"
    },
    "tags": []
   },
   "outputs": [
    {
     "name": "stdout",
     "output_type": "stream",
     "text": [
      "/kaggle/input/titanic/train.csv\n",
      "/kaggle/input/titanic/test.csv\n",
      "/kaggle/input/titanic/gender_submission.csv\n"
     ]
    }
   ],
   "source": [
    "# This Python 3 environment comes with many helpful analytics libraries installed\n",
    "# It is defined by the kaggle/python Docker image: https://github.com/kaggle/docker-python\n",
    "# For example, here's several helpful packages to load\n",
    "\n",
    "import numpy as np # linear algebra\n",
    "import pandas as pd # data processing, CSV file I/O (e.g. pd.read_csv)\n",
    "\n",
    "# Input data files are available in the read-only \"../input/\" directory\n",
    "# For example, running this (by clicking run or pressing Shift+Enter) will list all files under the input directory\n",
    "\n",
    "import os\n",
    "for dirname, _, filenames in os.walk('/kaggle/input'):\n",
    "    for filename in filenames:\n",
    "        print(os.path.join(dirname, filename))\n",
    "\n",
    "# You can write up to 20GB to the current directory (/kaggle/working/) that gets preserved as output when you create a version using \"Save & Run All\" \n",
    "# You can also write temporary files to /kaggle/temp/, but they won't be saved outside of the current session"
   ]
  },
  {
   "cell_type": "code",
   "execution_count": 2,
   "id": "1362a33a",
   "metadata": {
    "execution": {
     "iopub.execute_input": "2021-08-07T07:15:12.335715Z",
     "iopub.status.busy": "2021-08-07T07:15:12.334877Z",
     "iopub.status.idle": "2021-08-07T07:15:12.523118Z",
     "shell.execute_reply": "2021-08-07T07:15:12.522435Z",
     "shell.execute_reply.started": "2021-08-07T06:53:04.890592Z"
    },
    "papermill": {
     "duration": 0.211186,
     "end_time": "2021-08-07T07:15:12.523312",
     "exception": false,
     "start_time": "2021-08-07T07:15:12.312126",
     "status": "completed"
    },
    "tags": []
   },
   "outputs": [],
   "source": [
    "train = pd.read_csv('/kaggle/input/titanic/train.csv')\n",
    "test = pd.read_csv('/kaggle/input/titanic/test.csv')\n",
    "sample_submission = pd.read_csv('/kaggle/input/titanic/gender_submission.csv')"
   ]
  },
  {
   "cell_type": "code",
   "execution_count": 3,
   "id": "3fa864f4",
   "metadata": {
    "execution": {
     "iopub.execute_input": "2021-08-07T07:15:12.566199Z",
     "iopub.status.busy": "2021-08-07T07:15:12.564567Z",
     "iopub.status.idle": "2021-08-07T07:15:12.583140Z",
     "shell.execute_reply": "2021-08-07T07:15:12.581996Z",
     "shell.execute_reply.started": "2021-08-07T06:53:05.331030Z"
    },
    "papermill": {
     "duration": 0.047059,
     "end_time": "2021-08-07T07:15:12.583322",
     "exception": false,
     "start_time": "2021-08-07T07:15:12.536263",
     "status": "completed"
    },
    "tags": []
   },
   "outputs": [],
   "source": [
    "# SexとEmbarkedをダミー変数化する\n",
    "train = pd.get_dummies(train, columns = ['Sex', 'Embarked'])\n",
    "test = pd.get_dummies(test, columns = ['Sex', 'Embarked'])"
   ]
  },
  {
   "cell_type": "code",
   "execution_count": 4,
   "id": "b030ac4a",
   "metadata": {
    "execution": {
     "iopub.execute_input": "2021-08-07T07:15:12.615998Z",
     "iopub.status.busy": "2021-08-07T07:15:12.615261Z",
     "iopub.status.idle": "2021-08-07T07:15:12.620907Z",
     "shell.execute_reply": "2021-08-07T07:15:12.621449Z",
     "shell.execute_reply.started": "2021-08-07T06:53:08.570881Z"
    },
    "papermill": {
     "duration": 0.025382,
     "end_time": "2021-08-07T07:15:12.621685",
     "exception": false,
     "start_time": "2021-08-07T07:15:12.596303",
     "status": "completed"
    },
    "tags": []
   },
   "outputs": [],
   "source": [
    "# 使わなそうと判断した列を絡むごと削除する\n",
    "# inplaceは初期値がFalseで新しいDataFlameが返される。もとのDataFlameを変更したかったらTrueにする\n",
    "train.drop(['PassengerId', 'Name', 'Cabin', 'Ticket'], axis = 1, inplace = True)\n",
    "test.drop(['PassengerId', 'Name', 'Cabin', 'Ticket'], axis = 1, inplace = True)"
   ]
  },
  {
   "cell_type": "code",
   "execution_count": 5,
   "id": "cd293ec8",
   "metadata": {
    "execution": {
     "iopub.execute_input": "2021-08-07T07:15:12.650524Z",
     "iopub.status.busy": "2021-08-07T07:15:12.649793Z",
     "iopub.status.idle": "2021-08-07T07:15:12.656836Z",
     "shell.execute_reply": "2021-08-07T07:15:12.656045Z",
     "shell.execute_reply.started": "2021-08-07T06:57:00.790041Z"
    },
    "papermill": {
     "duration": 0.022762,
     "end_time": "2021-08-07T07:15:12.657032",
     "exception": false,
     "start_time": "2021-08-07T07:15:12.634270",
     "status": "completed"
    },
    "tags": []
   },
   "outputs": [],
   "source": [
    "X= train.drop(['Survived'], axis=1)\n",
    "y = train['Survived']"
   ]
  },
  {
   "cell_type": "markdown",
   "id": "19adde31",
   "metadata": {
    "papermill": {
     "duration": 0.012236,
     "end_time": "2021-08-07T07:15:12.682643",
     "exception": false,
     "start_time": "2021-08-07T07:15:12.670407",
     "status": "completed"
    },
    "tags": []
   },
   "source": [
    "lightgbmを使っていく"
   ]
  },
  {
   "cell_type": "code",
   "execution_count": 6,
   "id": "01a3c2db",
   "metadata": {
    "execution": {
     "iopub.execute_input": "2021-08-07T07:15:12.713116Z",
     "iopub.status.busy": "2021-08-07T07:15:12.712405Z",
     "iopub.status.idle": "2021-08-07T07:15:14.771123Z",
     "shell.execute_reply": "2021-08-07T07:15:14.770469Z",
     "shell.execute_reply.started": "2021-08-07T06:56:38.733690Z"
    },
    "papermill": {
     "duration": 2.076162,
     "end_time": "2021-08-07T07:15:14.771284",
     "exception": false,
     "start_time": "2021-08-07T07:15:12.695122",
     "status": "completed"
    },
    "tags": []
   },
   "outputs": [
    {
     "data": {
      "text/html": [
       "<style type='text/css'>\n",
       ".datatable table.frame { margin-bottom: 0; }\n",
       ".datatable table.frame thead { border-bottom: none; }\n",
       ".datatable table.frame tr.coltypes td {  color: #FFFFFF;  line-height: 6px;  padding: 0 0.5em;}\n",
       ".datatable .bool    { background: #DDDD99; }\n",
       ".datatable .object  { background: #565656; }\n",
       ".datatable .int     { background: #5D9E5D; }\n",
       ".datatable .float   { background: #4040CC; }\n",
       ".datatable .str     { background: #CC4040; }\n",
       ".datatable .time    { background: #40CC40; }\n",
       ".datatable .row_index {  background: var(--jp-border-color3);  border-right: 1px solid var(--jp-border-color0);  color: var(--jp-ui-font-color3);  font-size: 9px;}\n",
       ".datatable .frame tbody td { text-align: left; }\n",
       ".datatable .frame tr.coltypes .row_index {  background: var(--jp-border-color0);}\n",
       ".datatable th:nth-child(2) { padding-left: 12px; }\n",
       ".datatable .hellipsis {  color: var(--jp-cell-editor-border-color);}\n",
       ".datatable .vellipsis {  background: var(--jp-layout-color0);  color: var(--jp-cell-editor-border-color);}\n",
       ".datatable .na {  color: var(--jp-cell-editor-border-color);  font-size: 80%;}\n",
       ".datatable .sp {  opacity: 0.25;}\n",
       ".datatable .footer { font-size: 9px; }\n",
       ".datatable .frame_dimensions {  background: var(--jp-border-color3);  border-top: 1px solid var(--jp-border-color0);  color: var(--jp-ui-font-color3);  display: inline-block;  opacity: 0.6;  padding: 1px 10px 1px 5px;}\n",
       "</style>\n"
      ],
      "text/plain": [
       "<IPython.core.display.HTML object>"
      ]
     },
     "metadata": {},
     "output_type": "display_data"
    }
   ],
   "source": [
    "import lightgbm as lgb\n",
    "from sklearn.model_selection import train_test_split\n",
    "from sklearn.metrics import accuracy_score"
   ]
  },
  {
   "cell_type": "code",
   "execution_count": 7,
   "id": "091373d0",
   "metadata": {
    "execution": {
     "iopub.execute_input": "2021-08-07T07:15:14.805448Z",
     "iopub.status.busy": "2021-08-07T07:15:14.803987Z",
     "iopub.status.idle": "2021-08-07T07:15:14.810348Z",
     "shell.execute_reply": "2021-08-07T07:15:14.810825Z",
     "shell.execute_reply.started": "2021-08-07T07:00:16.018813Z"
    },
    "papermill": {
     "duration": 0.026492,
     "end_time": "2021-08-07T07:15:14.811030",
     "exception": false,
     "start_time": "2021-08-07T07:15:14.784538",
     "status": "completed"
    },
    "tags": []
   },
   "outputs": [],
   "source": [
    "X_train, X_test, y_train, y_test = train_test_split(X, y, test_size = 0.3, random_state = 100)"
   ]
  },
  {
   "cell_type": "code",
   "execution_count": 8,
   "id": "dd15b78c",
   "metadata": {
    "execution": {
     "iopub.execute_input": "2021-08-07T07:15:14.841318Z",
     "iopub.status.busy": "2021-08-07T07:15:14.840332Z",
     "iopub.status.idle": "2021-08-07T07:15:14.844482Z",
     "shell.execute_reply": "2021-08-07T07:15:14.844924Z",
     "shell.execute_reply.started": "2021-08-07T07:01:15.855499Z"
    },
    "papermill": {
     "duration": 0.021118,
     "end_time": "2021-08-07T07:15:14.845156",
     "exception": false,
     "start_time": "2021-08-07T07:15:14.824038",
     "status": "completed"
    },
    "tags": []
   },
   "outputs": [],
   "source": [
    "gbm = lgb.LGBMClassifier(objective='binary')"
   ]
  },
  {
   "cell_type": "code",
   "execution_count": 9,
   "id": "6eae2d02",
   "metadata": {
    "execution": {
     "iopub.execute_input": "2021-08-07T07:15:14.875167Z",
     "iopub.status.busy": "2021-08-07T07:15:14.874175Z",
     "iopub.status.idle": "2021-08-07T07:15:14.959368Z",
     "shell.execute_reply": "2021-08-07T07:15:14.960185Z",
     "shell.execute_reply.started": "2021-08-07T07:02:54.883770Z"
    },
    "papermill": {
     "duration": 0.102452,
     "end_time": "2021-08-07T07:15:14.960438",
     "exception": false,
     "start_time": "2021-08-07T07:15:14.857986",
     "status": "completed"
    },
    "tags": []
   },
   "outputs": [
    {
     "name": "stdout",
     "output_type": "stream",
     "text": [
      "Training until validation scores don't improve for 20 rounds\n",
      "[10]\tvalid_0's binary_logloss: 0.487687\n",
      "[20]\tvalid_0's binary_logloss: 0.452407\n",
      "[30]\tvalid_0's binary_logloss: 0.449514\n",
      "[40]\tvalid_0's binary_logloss: 0.453922\n",
      "Early stopping, best iteration is:\n",
      "[24]\tvalid_0's binary_logloss: 0.447878\n"
     ]
    }
   ],
   "source": [
    "gbm.fit(X_train, y_train, eval_set = [(X_test, y_test)], \n",
    "       early_stopping_rounds = 20, \n",
    "       verbose = 10);"
   ]
  },
  {
   "cell_type": "code",
   "execution_count": 10,
   "id": "b89fcce5",
   "metadata": {
    "execution": {
     "iopub.execute_input": "2021-08-07T07:15:15.000585Z",
     "iopub.status.busy": "2021-08-07T07:15:14.999769Z",
     "iopub.status.idle": "2021-08-07T07:15:15.009253Z",
     "shell.execute_reply": "2021-08-07T07:15:15.009852Z",
     "shell.execute_reply.started": "2021-08-07T07:09:23.434141Z"
    },
    "papermill": {
     "duration": 0.033099,
     "end_time": "2021-08-07T07:15:15.010099",
     "exception": false,
     "start_time": "2021-08-07T07:15:14.977000",
     "status": "completed"
    },
    "tags": []
   },
   "outputs": [
    {
     "name": "stdout",
     "output_type": "stream",
     "text": [
      "score 80.6 %\n"
     ]
    }
   ],
   "source": [
    "pred = gbm.predict(X_test, num_iteration = gbm.best_iteration_)\n",
    "print('score', round(accuracy_score(y_test, pred)* 100,2), '%')"
   ]
  },
  {
   "cell_type": "code",
   "execution_count": 11,
   "id": "8fb82d28",
   "metadata": {
    "execution": {
     "iopub.execute_input": "2021-08-07T07:15:15.052251Z",
     "iopub.status.busy": "2021-08-07T07:15:15.051432Z",
     "iopub.status.idle": "2021-08-07T07:15:15.062123Z",
     "shell.execute_reply": "2021-08-07T07:15:15.061277Z",
     "shell.execute_reply.started": "2021-08-07T07:12:16.428878Z"
    },
    "papermill": {
     "duration": 0.036004,
     "end_time": "2021-08-07T07:15:15.062326",
     "exception": false,
     "start_time": "2021-08-07T07:15:15.026322",
     "status": "completed"
    },
    "tags": []
   },
   "outputs": [],
   "source": [
    "test_pred = gbm.predict(test, num_iteration = gbm.best_iteration_)\n",
    "sample_submission['Survived'] = test_pred\n",
    "sample_submission.to_csv('submission_lgbm', index = False)"
   ]
  },
  {
   "cell_type": "markdown",
   "id": "5616a0d2",
   "metadata": {
    "papermill": {
     "duration": 0.013432,
     "end_time": "2021-08-07T07:15:15.090326",
     "exception": false,
     "start_time": "2021-08-07T07:15:15.076894",
     "status": "completed"
    },
    "tags": []
   },
   "source": [
    "# KFOLDで分割してやってみる"
   ]
  },
  {
   "cell_type": "code",
   "execution_count": null,
   "id": "98dd5815",
   "metadata": {
    "papermill": {
     "duration": 0.013215,
     "end_time": "2021-08-07T07:15:15.117515",
     "exception": false,
     "start_time": "2021-08-07T07:15:15.104300",
     "status": "completed"
    },
    "tags": []
   },
   "outputs": [],
   "source": []
  }
 ],
 "metadata": {
  "kernelspec": {
   "display_name": "Python 3",
   "language": "python",
   "name": "python3"
  },
  "language_info": {
   "codemirror_mode": {
    "name": "ipython",
    "version": 3
   },
   "file_extension": ".py",
   "mimetype": "text/x-python",
   "name": "python",
   "nbconvert_exporter": "python",
   "pygments_lexer": "ipython3",
   "version": "3.7.10"
  },
  "papermill": {
   "default_parameters": {},
   "duration": 12.891899,
   "end_time": "2021-08-07T07:15:16.556309",
   "environment_variables": {},
   "exception": null,
   "input_path": "__notebook__.ipynb",
   "output_path": "__notebook__.ipynb",
   "parameters": {},
   "start_time": "2021-08-07T07:15:03.664410",
   "version": "2.3.3"
  }
 },
 "nbformat": 4,
 "nbformat_minor": 5
}
